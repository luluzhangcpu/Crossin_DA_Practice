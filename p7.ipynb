{
 "cells": [
  {
   "cell_type": "code",
   "execution_count": 1,
   "metadata": {},
   "outputs": [],
   "source": [
    "# 本章数据分析小组练习--北京数据分析师岗位数据统计\n",
    "import pandas as pd"
   ]
  },
  {
   "cell_type": "code",
   "execution_count": 2,
   "metadata": {},
   "outputs": [
    {
     "name": "stdout",
     "output_type": "stream",
     "text": [
      "<class 'pandas.core.frame.DataFrame'>\n",
      "RangeIndex: 650 entries, 0 to 649\n",
      "Data columns (total 11 columns):\n",
      " #   Column        Non-Null Count  Dtype  \n",
      "---  ------        --------------  -----  \n",
      " 0   title         647 non-null    object \n",
      " 1   company       650 non-null    object \n",
      " 2   company_size  588 non-null    object \n",
      " 3   industry      642 non-null    object \n",
      " 4   type          650 non-null    object \n",
      " 5   salary        650 non-null    object \n",
      " 6   company_type  650 non-null    object \n",
      " 7   source        647 non-null    object \n",
      " 8   experience    650 non-null    object \n",
      " 9   education     650 non-null    object \n",
      " 10  salary2       546 non-null    float64\n",
      "dtypes: float64(1), object(10)\n",
      "memory usage: 56.0+ KB\n",
      "None\n"
     ]
    }
   ],
   "source": [
    "# task1--现有一组北京地区数据分析师的岗位数据，存于 jobs.csv 中。\n",
    "# 请按要求进行数据分析统计：\n",
    "# 利用 pandas 读取 csv 格式数据文件，去除其中的重复值，并展示前部数据\n",
    "df1 = pd.read_csv('/Users/apple/Desktop/jobs.csv')\n",
    "print(df1.info())"
   ]
  },
  {
   "cell_type": "code",
   "execution_count": 3,
   "metadata": {},
   "outputs": [
    {
     "name": "stdout",
     "output_type": "stream",
     "text": [
      "<class 'pandas.core.frame.DataFrame'>\n",
      "Int64Index: 650 entries, 0 to 649\n",
      "Data columns (total 11 columns):\n",
      " #   Column        Non-Null Count  Dtype  \n",
      "---  ------        --------------  -----  \n",
      " 0   title         647 non-null    object \n",
      " 1   company       650 non-null    object \n",
      " 2   company_size  588 non-null    object \n",
      " 3   industry      642 non-null    object \n",
      " 4   type          650 non-null    object \n",
      " 5   salary        650 non-null    object \n",
      " 6   company_type  650 non-null    object \n",
      " 7   source        647 non-null    object \n",
      " 8   experience    650 non-null    object \n",
      " 9   education     650 non-null    object \n",
      " 10  salary2       546 non-null    float64\n",
      "dtypes: float64(1), object(10)\n",
      "memory usage: 60.9+ KB\n",
      "None\n"
     ]
    }
   ],
   "source": [
    "df1.drop_duplicates(inplace=True)\n",
    "print(df1.info())"
   ]
  },
  {
   "cell_type": "code",
   "execution_count": 4,
   "metadata": {},
   "outputs": [
    {
     "name": "stdout",
     "output_type": "stream",
     "text": [
      "猎聘           580\n",
      "OFweek人才网     33\n",
      "斗米            17\n",
      "百姓网            5\n",
      "北极星招聘          5\n",
      "普工招聘网          4\n",
      "工厂直聘网          2\n",
      "康强医疗人才网        1\n",
      "Name: source, dtype: int64\n"
     ]
    }
   ],
   "source": [
    "# task2--统计数据表中的招聘岗位都来自于哪些网站\n",
    "a = df1['source'].value_counts()\n",
    "print(a)"
   ]
  },
  {
   "cell_type": "code",
   "execution_count": 5,
   "metadata": {},
   "outputs": [
    {
     "name": "stdout",
     "output_type": "stream",
     "text": [
      "3-5年     232\n",
      "1-3年     197\n",
      "不限       142\n",
      "5-10年     75\n",
      "10年以上      4\n",
      "Name: experience, dtype: int64\n"
     ]
    }
   ],
   "source": [
    "# task3--统计数据分析师这个岗位，对于工作经验的要求\n",
    "b = df1['experience'].value_counts()\n",
    "print(b)"
   ]
  },
  {
   "cell_type": "code",
   "execution_count": 6,
   "metadata": {},
   "outputs": [
    {
     "name": "stdout",
     "output_type": "stream",
     "text": [
      "本科    489\n",
      "不限     71\n",
      "硕士     54\n",
      "大专     26\n",
      "初中      9\n",
      "博士      1\n",
      "Name: education, dtype: int64\n"
     ]
    }
   ],
   "source": [
    "# task4--统计该地区数据分析岗位对于教育背景的要求\n",
    "c = df1['education'].value_counts()\n",
    "print(c)"
   ]
  },
  {
   "cell_type": "code",
   "execution_count": 7,
   "metadata": {},
   "outputs": [
    {
     "name": "stdout",
     "output_type": "stream",
     "text": [
      "民营          458\n",
      "上市公司         62\n",
      "外商独资/办事处     45\n",
      "中外合资/合作      42\n",
      "国企           34\n",
      "事业单位          4\n",
      "个人企业          2\n",
      "股份制           1\n",
      "其它            1\n",
      "公立医院          1\n",
      "Name: company_type, dtype: int64\n"
     ]
    }
   ],
   "source": [
    "# task5--请统计出不同类型公司的职位数量\n",
    "d = df1['company_type'].value_counts()\n",
    "print(d)"
   ]
  },
  {
   "cell_type": "code",
   "execution_count": 9,
   "metadata": {},
   "outputs": [
    {
     "name": "stdout",
     "output_type": "stream",
     "text": [
      "14409.8947\n"
     ]
    }
   ],
   "source": [
    "# task6--所有职位的平均工资是多少\n",
    "e = round(df1['salary2'].mean(),4)\n",
    "print(e)"
   ]
  },
  {
   "cell_type": "code",
   "execution_count": 10,
   "metadata": {},
   "outputs": [
    {
     "name": "stdout",
     "output_type": "stream",
     "text": [
      "           company  salary2\n",
      "648      国内知名互联网企业  25000.0\n",
      "550     北京友信科技有限公司  25000.0\n",
      "401       北京某互联网公司  25000.0\n",
      "554     北京友信科技有限公司  25000.0\n",
      "211  北京百分点信息科技有限公司  25000.0\n",
      "404          某金融公司  25000.0\n",
      "574   北京中科恒硕科技有限公司  25000.0\n",
      "177     北京快手科技有限公司  25000.0\n",
      "416     某知名互联网金融公司  25000.0\n",
      "163   北京永利范思科技有限公司  25000.0\n"
     ]
    }
   ],
   "source": [
    "# task7--请统计平均薪资（即 salary2）排在前 10 位的招聘公司及金额\n",
    "f = df1.sort_values(by='salary2',ascending=False).iloc[:10,:].loc[:,['company','salary2']]\n",
    "print(f)"
   ]
  },
  {
   "cell_type": "code",
   "execution_count": 12,
   "metadata": {},
   "outputs": [
    {
     "name": "stdout",
     "output_type": "stream",
     "text": [
      "<class 'pandas.core.series.Series'>\n",
      "------------------------------------------------------------\n",
      "company\n",
      "百度在线网络技术(北京)有限公司       7\n",
      "深圳索信达数据技术有限公司          7\n",
      "车好多旧机动车经纪(北京)有限公司      7\n",
      "海南小易到家电子商务有限公司上海分公司    6\n",
      "苏州皇亭电子有限公司             5\n",
      "贝壳找房(北京)科技有限公司         5\n",
      "北京百分点信息科技有限公司          4\n",
      "北京嘀嘀无限科技发展有限公司         4\n",
      "北京中油瑞飞信息技术有限责任公司       4\n",
      "北京友信科技有限公司             4\n",
      "Name: company_type, dtype: int64\n"
     ]
    }
   ],
   "source": [
    "# task8--请统计发布职位数排在前 10 位的招聘公司及其职位数量\n",
    "g = df1['company_type'].groupby(df1['company']).count().sort_values(ascending=False)\n",
    "print(type(g))\n",
    "print('-' * 60)\n",
    "print(g.head(10))"
   ]
  },
  {
   "cell_type": "code",
   "execution_count": 13,
   "metadata": {},
   "outputs": [
    {
     "name": "stdout",
     "output_type": "stream",
     "text": [
      "<class 'pandas.core.series.Series'>\n",
      "------------------------------------------------------------\n",
      "company_type\n",
      "外商独资/办事处    17468.750000\n",
      "股份制         16000.000000\n",
      "民营          14378.595718\n",
      "上市公司        14367.346939\n",
      "事业单位        14166.666667\n",
      "中外合资/合作     13357.142857\n",
      "个人企业        13250.000000\n",
      "国企          12846.153846\n",
      "其它          10000.000000\n",
      "公立医院                 NaN\n",
      "Name: salary2, dtype: float64\n"
     ]
    }
   ],
   "source": [
    "# task9--请统计出平均工资排在前 10 位的公司类型及平均工资金额\n",
    "h = df1['salary2'].groupby(df1['company_type']).mean().sort_values(ascending=False)\n",
    "print(type(h))\n",
    "print('-' * 60)\n",
    "print(h.head(10))"
   ]
  },
  {
   "cell_type": "code",
   "execution_count": null,
   "metadata": {},
   "outputs": [],
   "source": []
  }
 ],
 "metadata": {
  "kernelspec": {
   "display_name": "Python 3",
   "language": "python",
   "name": "python3"
  },
  "language_info": {
   "codemirror_mode": {
    "name": "ipython",
    "version": 3
   },
   "file_extension": ".py",
   "mimetype": "text/x-python",
   "name": "python",
   "nbconvert_exporter": "python",
   "pygments_lexer": "ipython3",
   "version": "3.7.6"
  }
 },
 "nbformat": 4,
 "nbformat_minor": 4
}
