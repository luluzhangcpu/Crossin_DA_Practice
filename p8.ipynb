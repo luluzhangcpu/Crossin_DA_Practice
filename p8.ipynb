{
 "cells": [
  {
   "cell_type": "code",
   "execution_count": 1,
   "metadata": {},
   "outputs": [],
   "source": [
    "# 本章数据分析小组练习--上海二手房市场数据分析\n",
    "import pandas as pd"
   ]
  },
  {
   "cell_type": "code",
   "execution_count": 2,
   "metadata": {},
   "outputs": [
    {
     "name": "stdout",
     "output_type": "stream",
     "text": [
      "<class 'pandas.core.frame.DataFrame'>\n",
      "RangeIndex: 69654 entries, 0 to 69653\n",
      "Data columns (total 14 columns):\n",
      " #   Column             Non-Null Count  Dtype  \n",
      "---  ------             --------------  -----  \n",
      " 0   id                 69654 non-null  object \n",
      " 1   title              69654 non-null  object \n",
      " 2   price              69654 non-null  float64\n",
      " 3   up_price           69654 non-null  int64  \n",
      " 4   xiaoqu_name        69654 non-null  object \n",
      " 5   size               69654 non-null  float64\n",
      " 6   buildyear          69654 non-null  int64  \n",
      " 7   huxing             69654 non-null  object \n",
      " 8   chaoxiang          69654 non-null  object \n",
      " 9   zhuangxiu          69654 non-null  object \n",
      " 10  cenggao            69654 non-null  object \n",
      " 11  louxing            69654 non-null  object \n",
      " 12  district_name      69654 non-null  object \n",
      " 13  sub_district_name  69654 non-null  object \n",
      "dtypes: float64(2), int64(2), object(10)\n",
      "memory usage: 7.4+ MB\n",
      "None\n"
     ]
    }
   ],
   "source": [
    "# task1--以下为上海地区某时期内的二手房数据，\n",
    "# 存在 houses.csv中，每条房源包含下列信息，请按照要求进行统计分析;\n",
    "# 用 pandas 读取 csv 格式文件（此文件编码为gbk），并将所有字段的重复数据去除\n",
    "df1 = pd.read_csv('/Users/apple/Desktop/houses.csv',encoding='gbk')\n",
    "print(df1.info())"
   ]
  },
  {
   "cell_type": "code",
   "execution_count": 3,
   "metadata": {},
   "outputs": [
    {
     "name": "stdout",
     "output_type": "stream",
     "text": [
      "<class 'pandas.core.frame.DataFrame'>\n",
      "Int64Index: 69654 entries, 0 to 69653\n",
      "Data columns (total 14 columns):\n",
      " #   Column             Non-Null Count  Dtype  \n",
      "---  ------             --------------  -----  \n",
      " 0   id                 69654 non-null  object \n",
      " 1   title              69654 non-null  object \n",
      " 2   price              69654 non-null  float64\n",
      " 3   up_price           69654 non-null  int64  \n",
      " 4   xiaoqu_name        69654 non-null  object \n",
      " 5   size               69654 non-null  float64\n",
      " 6   buildyear          69654 non-null  int64  \n",
      " 7   huxing             69654 non-null  object \n",
      " 8   chaoxiang          69654 non-null  object \n",
      " 9   zhuangxiu          69654 non-null  object \n",
      " 10  cenggao            69654 non-null  object \n",
      " 11  louxing            69654 non-null  object \n",
      " 12  district_name      69654 non-null  object \n",
      " 13  sub_district_name  69654 non-null  object \n",
      "dtypes: float64(2), int64(2), object(10)\n",
      "memory usage: 8.0+ MB\n",
      "None\n"
     ]
    }
   ],
   "source": [
    "df1.drop_duplicates(inplace=True)\n",
    "print(df1.info())"
   ]
  },
  {
   "cell_type": "code",
   "execution_count": 4,
   "metadata": {},
   "outputs": [
    {
     "name": "stdout",
     "output_type": "stream",
     "text": [
      "69654\n"
     ]
    }
   ],
   "source": [
    "# task2--请统计出总房源数量、总小区数量、总版块数量\n",
    "# 任务提示：直接统计数据的条数，即用 len 函数即可\n",
    "# 总房源数量\n",
    "a = len(df1['id'].unique())\n",
    "print(a)"
   ]
  },
  {
   "cell_type": "code",
   "execution_count": 5,
   "metadata": {},
   "outputs": [
    {
     "name": "stdout",
     "output_type": "stream",
     "text": [
      "8333\n"
     ]
    }
   ],
   "source": [
    "# 总小区数量\n",
    "b = len(df1['xiaoqu_name'].unique())\n",
    "print(b)"
   ]
  },
  {
   "cell_type": "code",
   "execution_count": 6,
   "metadata": {},
   "outputs": [
    {
     "name": "stdout",
     "output_type": "stream",
     "text": [
      "165\n"
     ]
    }
   ],
   "source": [
    "# 总版块数量\n",
    "c = len(df1['sub_district_name'].unique())\n",
    "print(c)"
   ]
  },
  {
   "cell_type": "code",
   "execution_count": 7,
   "metadata": {},
   "outputs": [
    {
     "name": "stdout",
     "output_type": "stream",
     "text": [
      "<class 'numpy.ndarray'>\n",
      "------------------------------\n",
      "['2室2厅 ' '2室1厅 ' '1室1厅 ' '4室3厅 ' '3室1厅 ' '3室2厅 ' '4室2厅 ' '1室2厅 ' '2室0厅 '\n",
      " '5室1厅 ' '1室0厅 ' '5室3厅 ' '5室2厅 ' '4室1厅 ' '4室4厅 ' '6室3厅 ' '5室6厅 ' '6室2厅 '\n",
      " '5室4厅 ' '7室3厅 ' '3室3厅 ' '9室2厅 ' '7室2厅 ' '7室1厅 ' '6室4厅 ' '6室1厅 ' '8室4厅 '\n",
      " '3室0厅 ' '7室4厅 ' '7室5厅 ' '4室5厅 ' '9室6厅 ' '9室4厅 ' '6室5厅 ' '10室1厅 ' '4室0厅 '\n",
      " '8室1厅 ' '9室3厅 ' '9室9厅 ' '5室5厅 ' '8室3厅 ' '2室3厅 ' '7室6厅 ' '8室2厅 ' '0室0厅 '\n",
      " '6室6厅 ' '10室6厅 ' '2室4厅 ' '6室0厅 ' '10室2厅 ' '7室0厅 ' '3室4厅 ' '8室5厅 '\n",
      " '10室3厅 ' '5室0厅 ' '3室5厅 ']\n"
     ]
    }
   ],
   "source": [
    "# task3--请统计出有哪些不同的户型、有哪些不同的装修情况、有哪些不同的建造年份\n",
    "# 任务提示：可用 unique 函数进行统计\n",
    "# 有 哪些不同户型\n",
    "d = df1['huxing'].unique()\n",
    "print(type(d))\n",
    "print('-'*30)\n",
    "print(d)"
   ]
  },
  {
   "cell_type": "code",
   "execution_count": 9,
   "metadata": {},
   "outputs": [
    {
     "name": "stdout",
     "output_type": "stream",
     "text": [
      "<class 'pandas.core.series.Series'>\n",
      "------------------------------\n",
      " 精装     34080\n",
      " 简装     24079\n",
      " 其他      5812\n",
      " 毛坯      5683\n",
      "Name: zhuangxiu, dtype: int64\n",
      "------------------------------\n",
      "<class 'numpy.ndarray'>\n",
      "------------------------------\n",
      "[' 简装 ' ' 精装 ' ' 毛坯 ' ' 其他 ']\n"
     ]
    }
   ],
   "source": [
    "# 有 哪些不同装修情况\n",
    "e = df1['zhuangxiu'].value_counts()\n",
    "print(type(e))\n",
    "print('-' * 30)\n",
    "print(e)\n",
    "print('-'*30)\n",
    "g = df1['zhuangxiu'].unique()\n",
    "print(type(g))\n",
    "print('-' * 30)\n",
    "print(g)"
   ]
  },
  {
   "cell_type": "code",
   "execution_count": 10,
   "metadata": {},
   "outputs": [
    {
     "name": "stdout",
     "output_type": "stream",
     "text": [
      "[2010 1995 2007 1997 2004 1994 2011 2012 1998 2013 1999 2016 2000 2005\n",
      " 1996 2003 2015 2006 2009 1993 2002 2014 1992 2008 2001 2019 2018 1987\n",
      " 1991 2017 1989 1988 1982 1983 1984 1981 1985 1977 1986 1990 1979 1980\n",
      " 1953 1976 1958 1978 1969 1974 1975 1955 1971 1954 1956 1959 1968 1964\n",
      " 1960 1967 1972 1961 1973 1936 1911 1941 1948 1949 1939 1933 1940 1946\n",
      " 1937 1910 1945 1957 1965 1966 1970 1963 1950 1962 1930 1920 1947 1938\n",
      " 1934 1935 1921 1926 1912 1924 1928 1931 1943 1900 1952 1951]\n"
     ]
    }
   ],
   "source": [
    "# 有哪些不同建造年份\n",
    "h = df1['buildyear'].unique()\n",
    "print(h)"
   ]
  },
  {
   "cell_type": "code",
   "execution_count": 11,
   "metadata": {},
   "outputs": [
    {
     "name": "stdout",
     "output_type": "stream",
     "text": [
      "55051.4809056192\n"
     ]
    }
   ],
   "source": [
    "# task4--请计算出上海二手房每平方米均价\n",
    "i = df1['up_price'].mean()\n",
    "print(i)"
   ]
  },
  {
   "cell_type": "code",
   "execution_count": 12,
   "metadata": {},
   "outputs": [
    {
     "name": "stdout",
     "output_type": "stream",
     "text": [
      "        count         mean\n",
      "huxing                    \n",
      "2室1厅    17364    66.915066\n",
      "2室2厅    12990    93.016552\n",
      "3室2厅    12618   129.362787\n",
      "1室1厅    12103    46.955651\n",
      "4室2厅     3613   208.867312\n",
      "3室1厅     3451    91.561336\n",
      "1室0厅     1914    36.206541\n",
      "2室0厅     1369    49.615223\n",
      "1室2厅     1192    67.410990\n",
      "5室2厅      855   286.614175\n",
      "5室3厅      584   360.780565\n",
      "4室3厅      566   272.177951\n",
      "6室3厅      181   395.391215\n",
      "6室2厅      147   289.408435\n",
      "4室1厅      145   154.547586\n",
      "3室3厅      134   175.504030\n",
      "3室0厅      107    68.571869\n",
      "5室4厅       51   403.056667\n",
      "6室4厅       49   516.186122\n",
      "7室3厅       36   461.077222\n",
      "5室1厅       32   225.869375\n",
      "7室2厅       30   310.042667\n",
      "4室4厅       21   265.587143\n",
      "6室1厅       11   170.230909\n",
      "7室4厅        9   535.334444\n",
      "8室2厅        9   366.875556\n",
      "2室3厅        8   118.597500\n",
      "6室5厅        7   669.482857\n",
      "8室3厅        6   474.710000\n",
      "8室4厅        5   622.384000\n",
      "7室5厅        5   532.396000\n",
      "9室2厅        4   757.650000\n",
      "0室0厅        4   237.622500\n",
      "9室4厅        3   409.463333\n",
      "5室6厅        3   344.720000\n",
      "4室0厅        3   192.590000\n",
      "6室0厅        2   504.425000\n",
      "9室6厅        2   473.775000\n",
      "7室6厅        2   406.005000\n",
      "5室5厅        2   334.585000\n",
      "7室1厅        2   177.200000\n",
      "8室5厅        1  1663.100000\n",
      "6室6厅        1  1440.160000\n",
      "9室9厅        1  1352.240000\n",
      "10室3厅       1   598.320000\n",
      "9室3厅        1   593.010000\n",
      "10室1厅       1   544.990000\n",
      "10室6厅       1   473.610000\n",
      "8室1厅        1   386.170000\n",
      "3室5厅        1   376.210000\n",
      "10室2厅       1   370.000000\n",
      "4室5厅        1   321.000000\n",
      "7室0厅        1   161.440000\n",
      "2室4厅        1   129.400000\n",
      "3室4厅        1    94.370000\n",
      "5室0厅        1    89.600000\n"
     ]
    }
   ],
   "source": [
    "# task5--请统计出不同户型对应的房源数量、平均面积。\n",
    "# 按不同户型的房源数量，从大到小进行排序，判断出主流户型是什么？平均面积多大？\n",
    "# 任务提示：以 huxing 为分组对象，展示 size 列，统计户型数量和 size 平均数\n",
    "j = df1['size'].groupby(df1['huxing']).agg(['count','mean']).sort_values(by=['count','mean'],ascending=False)\n",
    "print(j)"
   ]
  },
  {
   "cell_type": "code",
   "execution_count": 13,
   "metadata": {},
   "outputs": [
    {
     "name": "stdout",
     "output_type": "stream",
     "text": [
      "上海康城         216\n",
      "同润菲诗艾伦       117\n",
      "中远两湾城        114\n",
      "金地艺境(宝山)     106\n",
      "美岸栖庭(公寓)     106\n",
      "            ... \n",
      "仁德路150号        1\n",
      "玫瑰苑(别墅)        1\n",
      "银光苑            1\n",
      "南东路61号         1\n",
      "双峰路8弄          1\n",
      "Name: xiaoqu_name, Length: 8333, dtype: int64\n"
     ]
    }
   ],
   "source": [
    "# task6--获取每个小区的房源数量，并按从大到小的顺序排序\n",
    "k = df1['xiaoqu_name'].value_counts()\n",
    "print(k)"
   ]
  },
  {
   "cell_type": "code",
   "execution_count": 14,
   "metadata": {},
   "outputs": [
    {
     "name": "stdout",
     "output_type": "stream",
     "text": [
      "xiaoqu_name\n",
      "MAX未来            31574.105263\n",
      "VIP大厦            70574.000000\n",
      "一品名人居            76460.166667\n",
      "一品新筑苑            65559.700000\n",
      "一品漫城(一期)(公寓)     55750.400000\n",
      "                     ...     \n",
      "龙阳小区             65840.666667\n",
      "龙阳花苑             72077.800000\n",
      "龚华公寓             33396.250000\n",
      "龚华新村             34649.312500\n",
      "龚路新城             33937.764706\n",
      "Name: up_price, Length: 8333, dtype: float64\n"
     ]
    }
   ],
   "source": [
    "# task7--请统计出上海每个小区每平方米的均价\n",
    "l = df1['up_price'].groupby(df1['xiaoqu_name']).mean()\n",
    "print(l)"
   ]
  },
  {
   "cell_type": "code",
   "execution_count": 15,
   "metadata": {},
   "outputs": [
    {
     "name": "stdout",
     "output_type": "stream",
     "text": [
      "                             id                         title    price  \\\n",
      "46396  5dd22309303c5558c090e6d9   花园18亩 开门见3座山 背面靠山 南东2面临天然大河  35000.0   \n",
      "46451  5dd22309303c5558c090e711     仟万精装、华庭岛屿大独栋！5亩占地、自住！价格可谈  30000.0   \n",
      "18891  5dd21bf518bba2b4a9a1061f  罕见！占地10亩庄园，整个园区的King！让上海都在仰望  30000.0   \n",
      "28332  5dd21d0718bba2b4a9a12cb3    安福路/常熟路 沿街独幢花园洋房，英式风格 地价已补  24999.0   \n",
      "18875  5dd21bf418bba2b4a9a1060f    （岛宅主推）占地8亩上产证 两面邻水靠大河 景观位置  21000.0   \n",
      "\n",
      "       up_price xiaoqu_name     size  buildyear huxing chaoxiang zhuangxiu  \\\n",
      "46396    191890     世茂佘山庄园   1823.97       2008  6室3厅         南        毛坯    \n",
      "46451    189672     佘山高尔夫郡   1581.68       2009  6室3厅       南 北        精装    \n",
      "18891    156613      绿城玫瑰园   1915.56       2013  6室4厅         南        毛坯    \n",
      "28332    527406    常熟路182号    474.00       1937  6室3厅         南        精装    \n",
      "18875    128214      绿城玫瑰园   1637.89       2014  6室4厅         南        毛坯    \n",
      "\n",
      "          cenggao louxing district_name sub_district_name  \n",
      "46396         2层      板楼             松江                佘山  \n",
      "46451         2层      板楼             松江                佘山  \n",
      "18891         2层      板楼             闵行                马桥  \n",
      "28332   低楼层(共3层)     板塔结合            徐汇               衡山路  \n",
      "18875         2层      板楼             闵行                马桥  \n"
     ]
    }
   ],
   "source": [
    "# task8--请统计出上海二手房总价排在前 5 位的房源\n",
    "m = df1.sort_values(by = 'price',ascending=False).head(5)\n",
    "print(m)"
   ]
  },
  {
   "cell_type": "code",
   "execution_count": 16,
   "metadata": {},
   "outputs": [
    {
     "name": "stdout",
     "output_type": "stream",
     "text": [
      "buildyear\n",
      "1900-12-31        1\n",
      "1910-12-31        1\n",
      "1920-12-31        7\n",
      "1930-12-31       36\n",
      "1940-12-31      112\n",
      "1950-12-31       40\n",
      "1960-12-31      425\n",
      "1970-12-31      234\n",
      "1980-12-31     1282\n",
      "1990-12-31     8536\n",
      "2000-12-31    23747\n",
      "2010-12-31    25136\n",
      "2020-12-31    10097\n",
      "Freq: 10A-DEC, Name: id, dtype: int64\n"
     ]
    }
   ],
   "source": [
    "# task9--请计算出不同年代的房子数量（10年一个区间）\n",
    "# 任务提示：先将 buildyear 列转为时间序列，\n",
    "# 再利用 groupby 函数统计出每年的房源数量，\n",
    "# 最后用 resample 函数进行汇总\n",
    "df1['buildyear'] = pd.to_datetime(df1['buildyear'],format='%Y') # 先将时间转为时间序列\n",
    "n = df1['id'].groupby(df1['buildyear']).count() # 再按 groupby 统计各年度房源数\n",
    "p = n.resample('10A').sum() # 统计每10年的房源总数\n",
    "print(p)"
   ]
  },
  {
   "cell_type": "code",
   "execution_count": null,
   "metadata": {},
   "outputs": [],
   "source": []
  }
 ],
 "metadata": {
  "kernelspec": {
   "display_name": "Python 3",
   "language": "python",
   "name": "python3"
  },
  "language_info": {
   "codemirror_mode": {
    "name": "ipython",
    "version": 3
   },
   "file_extension": ".py",
   "mimetype": "text/x-python",
   "name": "python",
   "nbconvert_exporter": "python",
   "pygments_lexer": "ipython3",
   "version": "3.7.6"
  }
 },
 "nbformat": 4,
 "nbformat_minor": 4
}
