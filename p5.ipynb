{
 "cells": [
  {
   "cell_type": "code",
   "execution_count": 1,
   "metadata": {},
   "outputs": [],
   "source": [
    "# 本章数据分析小组练习--利用 pandas 对某公司数据建立数据库并进行简单分析\n",
    "import pandas as pd\n",
    "import numpy as np"
   ]
  },
  {
   "cell_type": "code",
   "execution_count": 2,
   "metadata": {},
   "outputs": [
    {
     "name": "stdout",
     "output_type": "stream",
     "text": [
      "      marketcap     pe    code\n",
      "杭州银行        449   8.31  600926\n",
      "青农商行        371  15.36  002958\n",
      "常熟银行        237  16.01  601128\n",
      "工商银行      21313   7.16  601398\n",
      "上海银行       1369   7.59  601229\n",
      "江苏银行        823   6.30  600919\n"
     ]
    }
   ],
   "source": [
    "# task1--请根据上方表格数据创建一个 DataFrame 存储公司的数据，\n",
    "# 数据源如下所示，数据命名为 df_company\n",
    "df_company = pd.DataFrame({'marketcap':[449,371,237,21313,1369,823],\\\n",
    "                    'pe':[8.31,15.36,16.01,7.16,7.59,6.3],\\\n",
    "                    'code':['600926','002958','601128','601398',\\\n",
    "                            '601229','600919']},\\\n",
    "                   index=['杭州银行','青农商行','常熟银行','工商银行','上海银行','江苏银行'])\n",
    "print(df_company)"
   ]
  },
  {
   "cell_type": "code",
   "execution_count": 3,
   "metadata": {},
   "outputs": [
    {
     "name": "stdout",
     "output_type": "stream",
     "text": [
      "Index(['杭州银行', '青农商行', '常熟银行', '上海银行', '江苏银行'], dtype='object')\n"
     ]
    }
   ],
   "source": [
    "# task2--选出市值低于 2000 亿的所有公司\n",
    "# 任务提示：使用布尔形式选取数据\n",
    "a = df_company[df_company['marketcap']<2000].index\n",
    "print(a)"
   ]
  },
  {
   "cell_type": "code",
   "execution_count": 4,
   "metadata": {},
   "outputs": [
    {
     "name": "stdout",
     "output_type": "stream",
     "text": [
      "Index(['杭州银行', '上海银行', '江苏银行'], dtype='object')\n"
     ]
    }
   ],
   "source": [
    "# task3--选出市值 < 2000亿，\n",
    "# 并且市盈率 < 10 的所有公司\n",
    "# 任务提示：使用布尔形式选取数据\n",
    "b = df_company['marketcap'] < 2000\n",
    "c = df_company['pe'] < 10\n",
    "d = df_company[b & c].index\n",
    "print(d)"
   ]
  },
  {
   "cell_type": "code",
   "execution_count": 5,
   "metadata": {},
   "outputs": [
    {
     "name": "stdout",
     "output_type": "stream",
     "text": [
      "               close        pj\n",
      "2019-01-02  5.679036       NaN\n",
      "2019-01-03  3.942895       NaN\n",
      "2019-01-04  3.361023       NaN\n",
      "2019-01-05  3.807637       NaN\n",
      "2019-01-06  4.803482  4.318815\n",
      "...              ...       ...\n",
      "2019-04-07  6.804395  6.432465\n",
      "2019-04-08  5.825697  6.600472\n",
      "2019-04-09  6.146507  6.579377\n",
      "2019-04-10  7.074030  6.504498\n",
      "2019-04-11  6.323305  6.434787\n",
      "\n",
      "[100 rows x 2 columns]\n"
     ]
    }
   ],
   "source": [
    "# task4--假设其中一家公司股票的每日收盘价数据\n",
    "# 请计算收盘价的五日平均，并新增一列存储\n",
    "# 任务提示：使用窗函数rolling计算移动平均\n",
    "dr = pd.date_range(start='2019-01-02',periods=100)\n",
    "data = np.random.randn(100).cumsum()\n",
    "close = data - np.min(data)\n",
    "df = pd.DataFrame({'close':close},index=dr)\n",
    "df['pj'] = df.rolling(5).mean()\n",
    "print(df)"
   ]
  },
  {
   "cell_type": "code",
   "execution_count": 6,
   "metadata": {},
   "outputs": [
    {
     "name": "stdout",
     "output_type": "stream",
     "text": [
      "   第1列  第2列  第3列  第4列\n",
      "a    1    2    3    4\n",
      "b    5    6    7    8\n",
      "c    9   10   11   12\n",
      "d   13   14   15   16\n"
     ]
    }
   ],
   "source": [
    "# task5--创建 DataFrame 存储数据\n",
    "# 提示：此表格中，元素依次递增，可先利用np.array创建一维数组，\n",
    "# 再通过reshape方法变为二维数组，\n",
    "# 最后利用二维数组直接创建DataFrame\n",
    "df2 = pd.DataFrame(np.arange(1,17).reshape((4,4)),\\\n",
    "                   index=list('abcd'),\\\n",
    "                   columns=['第1列','第2列','第3列','第4列'])\n",
    "print(df2)"
   ]
  },
  {
   "cell_type": "code",
   "execution_count": 7,
   "metadata": {},
   "outputs": [
    {
     "name": "stdout",
     "output_type": "stream",
     "text": [
      "a    10\n",
      "b    26\n",
      "c    42\n",
      "d    58\n",
      "dtype: int64\n"
     ]
    }
   ],
   "source": [
    "# task6--请利用 apply 函数，统计出每一行的总和\n",
    "a = df2.apply('sum',axis=1)\n",
    "print(a)"
   ]
  },
  {
   "cell_type": "code",
   "execution_count": 8,
   "metadata": {},
   "outputs": [
    {
     "name": "stdout",
     "output_type": "stream",
     "text": [
      "   第1列  第2列  第3列  第4列  xj\n",
      "a    1    2    3    4   3\n",
      "b    5    6    7    8   7\n",
      "c    9   10   11   12  19\n",
      "d   13   14   15   16  27\n"
     ]
    }
   ],
   "source": [
    "# task7--请生成第 5 列数据，\n",
    "# 使其满足：当第 3 列数据 > 10 时，\n",
    "# 第 5 列数据等于第 1 、第 2 列数据之和；\n",
    "# 否则第 5 列数据等于第 3 列数据\n",
    "df2['xj'] = np.where(df2.iloc[:,2] > 10,\\\n",
    "                     df2.iloc[:,0] + df2.iloc[:,1],df2.iloc[:,2])\n",
    "print(df2)"
   ]
  },
  {
   "cell_type": "code",
   "execution_count": null,
   "metadata": {},
   "outputs": [],
   "source": []
  }
 ],
 "metadata": {
  "kernelspec": {
   "display_name": "Python 3",
   "language": "python",
   "name": "python3"
  },
  "language_info": {
   "codemirror_mode": {
    "name": "ipython",
    "version": 3
   },
   "file_extension": ".py",
   "mimetype": "text/x-python",
   "name": "python",
   "nbconvert_exporter": "python",
   "pygments_lexer": "ipython3",
   "version": "3.7.6"
  }
 },
 "nbformat": 4,
 "nbformat_minor": 4
}
