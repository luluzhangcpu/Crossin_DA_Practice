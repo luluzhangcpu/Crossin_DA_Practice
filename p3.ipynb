{
 "cells": [
  {
   "cell_type": "code",
   "execution_count": 1,
   "metadata": {},
   "outputs": [],
   "source": [
    "# 本章数据分析小组练习--pandas 基础：Series、DataFrame 的创建与数据的增、改、替\n",
    "import numpy as np\n",
    "import pandas as pd"
   ]
  },
  {
   "cell_type": "code",
   "execution_count": 2,
   "metadata": {},
   "outputs": [
    {
     "name": "stdout",
     "output_type": "stream",
     "text": [
      "a    8\n",
      "b    6\n",
      "c    8\n",
      "d    5\n",
      "e    5\n",
      "dtype: int64\n"
     ]
    }
   ],
   "source": [
    "# task1--结合 numpy 创建一个 (3, 10) 区间内的包含 5 个随机整数的一维数组 ndarray 为 data1，\n",
    "# 并以此 data 再创建索引为 a, b, c, d, e 的 Series 为 s1\n",
    "# 任务提示：利用 np.random.randint() 创建随机矩阵\n",
    "data1 = np.random.randint(3,10,5)\n",
    "s1 = pd.Series(data1,index=list('abcde'))\n",
    "print(s1)"
   ]
  },
  {
   "cell_type": "code",
   "execution_count": 3,
   "metadata": {},
   "outputs": [
    {
     "name": "stdout",
     "output_type": "stream",
     "text": [
      "c    8\n",
      "d    5\n",
      "e    5\n",
      "dtype: int64\n"
     ]
    }
   ],
   "source": [
    "# task2--请分别用位置索引和标签索引的方式提取是 s1 的后三个数\n",
    "# 用 标签索引的方式提取\n",
    "a = s1.loc[s1.index[-3]:]\n",
    "print(a)"
   ]
  },
  {
   "cell_type": "code",
   "execution_count": 4,
   "metadata": {},
   "outputs": [
    {
     "name": "stdout",
     "output_type": "stream",
     "text": [
      "c    8\n",
      "d    5\n",
      "e    5\n",
      "dtype: int64\n"
     ]
    }
   ],
   "source": [
    "# 用位置索引的方式提取\n",
    "b = s1.iloc[-3:]\n",
    "print(b)"
   ]
  },
  {
   "cell_type": "code",
   "execution_count": 5,
   "metadata": {},
   "outputs": [
    {
     "name": "stdout",
     "output_type": "stream",
     "text": [
      "   year  price\n",
      "0  2017     10\n",
      "1  2018     20\n",
      "2  2019     30\n"
     ]
    }
   ],
   "source": [
    "# task3--请用字典的形式创建一个DataFrame，\n",
    "# 将下方表格数据存储进去\n",
    "# 任务提示：创建 DataFrame 有多种方式，本题以字典形式创建\n",
    "df1 = pd.DataFrame({'year':[2017,2018,2019],'price':range(10,31,10)})\n",
    "print(df1)"
   ]
  },
  {
   "cell_type": "code",
   "execution_count": 6,
   "metadata": {},
   "outputs": [
    {
     "name": "stdout",
     "output_type": "stream",
     "text": [
      "   one  two  three\n",
      "a   14    8      6\n",
      "c   10   13     12\n",
      "e   13   14      6\n",
      "f   13    9     14\n",
      "h   11    6     14\n"
     ]
    }
   ],
   "source": [
    "# task4--结合 numpy 创建一个 (5, 15) 区间内，\n",
    "# 形状为 5 行 3 列的随机整数数组为 data2，\n",
    "# 并以此为基础创建 index 为 ['a', 'c', 'e', 'f', 'h'];\n",
    "# columns 为 ['one', 'two', 'three'] 的 DataFrame，并命名为 df_test\n",
    "data2 = np.random.randint(5,15,15).reshape((5,3))\n",
    "df_test = pd.DataFrame(data2,index=list('acefh'),columns=['one','two','three'])\n",
    "print(df_test)"
   ]
  },
  {
   "cell_type": "code",
   "execution_count": 7,
   "metadata": {},
   "outputs": [
    {
     "name": "stdout",
     "output_type": "stream",
     "text": [
      "    one  two  three\n",
      "a   NaN    8      6\n",
      "c  10.0   13     12\n",
      "e  13.0   14      6\n",
      "f  13.0    9     14\n",
      "h  11.0    6     14\n"
     ]
    }
   ],
   "source": [
    "# task5--运用 loc 索引以及替换的知识，按下列要求对 df_test 进行增、改、替操作。\n",
    "# 完成上述要求后，将该数据命名为 df_change\n",
    "# 任务提示：一般用 df.loc[行，列] = ？ 做替换\n",
    "# task5-1-- 将 a 行 one 列处替换成空值\n",
    "df_test.loc['a','one'] = None\n",
    "print(df_test)"
   ]
  },
  {
   "cell_type": "code",
   "execution_count": 8,
   "metadata": {},
   "outputs": [
    {
     "name": "stdout",
     "output_type": "stream",
     "text": [
      "    one  two  three\n",
      "a   NaN    8      6\n",
      "c  10.0  -99     12\n",
      "e  13.0   14      6\n",
      "f  13.0    9     14\n",
      "h  11.0    6     14\n"
     ]
    }
   ],
   "source": [
    "# task5-2--将 c 行 two 列处替换成 -99\n",
    "df_test.loc['c','two'] = -99\n",
    "print(df_test)"
   ]
  },
  {
   "cell_type": "code",
   "execution_count": 9,
   "metadata": {},
   "outputs": [
    {
     "name": "stdout",
     "output_type": "stream",
     "text": [
      "    one  two  three\n",
      "a   NaN    8      6\n",
      "c  10.0  -99    -99\n",
      "e  13.0   14      6\n",
      "f  13.0    9     14\n",
      "h  11.0    6     14\n"
     ]
    }
   ],
   "source": [
    "# task5-3--将 c 行 three 列处替换成 -99\n",
    "df_test.loc['c','three'] = -99\n",
    "print(df_test)"
   ]
  },
  {
   "cell_type": "code",
   "execution_count": 10,
   "metadata": {},
   "outputs": [
    {
     "name": "stdout",
     "output_type": "stream",
     "text": [
      "    one  two  three\n",
      "a   NaN -100      6\n",
      "c  10.0  -99    -99\n",
      "e  13.0   14      6\n",
      "f  13.0    9     14\n",
      "h  11.0    6     14\n"
     ]
    }
   ],
   "source": [
    "# task5-4--将 a 行 two 列处替换成 -100\n",
    "df_test.loc['a','two'] = -100\n",
    "print(df_test)"
   ]
  },
  {
   "cell_type": "code",
   "execution_count": 11,
   "metadata": {},
   "outputs": [
    {
     "name": "stdout",
     "output_type": "stream",
     "text": [
      "    one  two  three  four\n",
      "a   NaN -100      6  test\n",
      "c  10.0  -99    -99  test\n",
      "e  13.0   14      6  test\n",
      "f  13.0    9     14  test\n",
      "h  11.0    6     14  test\n"
     ]
    }
   ],
   "source": [
    "# task5-5--新增 four 列，值为 test\n",
    "df_test['four'] = 'test'\n",
    "print(df_test)"
   ]
  },
  {
   "cell_type": "code",
   "execution_count": 12,
   "metadata": {},
   "outputs": [
    {
     "name": "stdout",
     "output_type": "stream",
     "text": [
      "    one    two  three  four\n",
      "a   NaN -100.0    6.0  test\n",
      "b   NaN    NaN    NaN   NaN\n",
      "c  10.0  -99.0  -99.0  test\n",
      "d   NaN    NaN    NaN   NaN\n",
      "e  13.0   14.0    6.0  test\n",
      "f  13.0    9.0   14.0  test\n",
      "g   NaN    NaN    NaN   NaN\n",
      "h  11.0    6.0   14.0  test\n"
     ]
    }
   ],
   "source": [
    "# task5-6--重置索引为 ['a', 'b', 'c', 'd', 'e', 'f', 'g', 'h']\n",
    "df_change = df_test.reindex(list('abcdefgh'))\n",
    "print(df_change)"
   ]
  },
  {
   "cell_type": "code",
   "execution_count": 13,
   "metadata": {},
   "outputs": [
    {
     "name": "stdout",
     "output_type": "stream",
     "text": [
      "    one   two  three  four\n",
      "c  10.0 -99.0  -99.0  test\n",
      "e  13.0  14.0    6.0  test\n",
      "f  13.0   9.0   14.0  test\n",
      "h  11.0   6.0   14.0  test\n"
     ]
    }
   ],
   "source": [
    "# task6--删除 df_change 中存在缺失值的所有行\n",
    "df3 = df_change.copy()\n",
    "df3.dropna(inplace=True)\n",
    "print(df3)"
   ]
  },
  {
   "cell_type": "code",
   "execution_count": 14,
   "metadata": {},
   "outputs": [
    {
     "name": "stdout",
     "output_type": "stream",
     "text": [
      "    one    two  three  four\n",
      "a   NaN -100.0    6.0  test\n",
      "c  10.0  -99.0  -99.0  test\n",
      "e  13.0   14.0    6.0  test\n",
      "f  13.0    9.0   14.0  test\n",
      "h  11.0    6.0   14.0  test\n"
     ]
    }
   ],
   "source": [
    "# task7--删除 df_change 中所有值都为 NaN 值的行\n",
    "df4 = df_change.copy()\n",
    "df4.dropna(how='all',inplace=True)\n",
    "print(df4)"
   ]
  },
  {
   "cell_type": "code",
   "execution_count": 15,
   "metadata": {},
   "outputs": [
    {
     "name": "stdout",
     "output_type": "stream",
     "text": [
      "    one    two  three  four\n",
      "a   0.0 -100.0    6.0  test\n",
      "b   0.0    0.0    0.0     0\n",
      "c  10.0  -99.0  -99.0  test\n",
      "d   0.0    0.0    0.0     0\n",
      "e  13.0   14.0    6.0  test\n",
      "f  13.0    9.0   14.0  test\n",
      "g   0.0    0.0    0.0     0\n",
      "h  11.0    6.0   14.0  test\n"
     ]
    }
   ],
   "source": [
    "# task8--df_change 中的所有缺失值（即 NaN）以 0 填充\n",
    "df_change.fillna(0,inplace=True)\n",
    "print(df_change)"
   ]
  },
  {
   "cell_type": "code",
   "execution_count": 16,
   "metadata": {},
   "outputs": [
    {
     "name": "stdout",
     "output_type": "stream",
     "text": [
      "    one    two  three  four\n",
      "a   0.0 -100.0    6.0  test\n",
      "b   0.0    0.0    0.0     0\n",
      "c  10.0  -99.0  -99.0  test\n",
      "e  13.0   14.0    6.0  test\n",
      "f  13.0    9.0   14.0  test\n",
      "h  11.0    6.0   14.0  test\n"
     ]
    }
   ],
   "source": [
    "# task9--删除 df_change中的重复行\n",
    "df_change.drop_duplicates(inplace=True)\n",
    "print(df_change)"
   ]
  },
  {
   "cell_type": "code",
   "execution_count": null,
   "metadata": {},
   "outputs": [],
   "source": []
  }
 ],
 "metadata": {
  "kernelspec": {
   "display_name": "Python 3",
   "language": "python",
   "name": "python3"
  },
  "language_info": {
   "codemirror_mode": {
    "name": "ipython",
    "version": 3
   },
   "file_extension": ".py",
   "mimetype": "text/x-python",
   "name": "python",
   "nbconvert_exporter": "python",
   "pygments_lexer": "ipython3",
   "version": "3.7.6"
  }
 },
 "nbformat": 4,
 "nbformat_minor": 4
}
