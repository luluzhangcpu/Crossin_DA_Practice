{
 "cells": [
  {
   "cell_type": "code",
   "execution_count": 1,
   "metadata": {},
   "outputs": [],
   "source": [
    "# 本章数据分析小组练习--利用数据透视表统计分析销售数据\n",
    "import pandas as pd\n",
    "import numpy as np"
   ]
  },
  {
   "cell_type": "code",
   "execution_count": 2,
   "metadata": {},
   "outputs": [
    {
     "name": "stdout",
     "output_type": "stream",
     "text": [
      "      id        date goods  sales\n",
      "0   1001  2019-01-01     A   3000\n",
      "1   1001  2019-01-01     B   2000\n",
      "2   1002  2019-01-01     A   3000\n",
      "3   1003  2019-01-01     B   2000\n",
      "4   1001  2019-01-02     A   3000\n",
      "5   1002  2019-01-02     A   3000\n",
      "6   1002  2019-01-02     B   2000\n",
      "7   1003  2019-01-02     A   3000\n",
      "8   1001  2019-01-03     A   3000\n",
      "9   1002  2019-01-03     B   2000\n",
      "10  1001  2019-01-04     A   3000\n",
      "11  1002  2019-01-04     A   3000\n"
     ]
    }
   ],
   "source": [
    "# task1--利用 pandas 读取 task6_1.csv 文件中的数据，建立 DataFrame\n",
    "df1 = pd.read_csv('/Users/apple/Desktop/task6_1.csv')\n",
    "print(df1)"
   ]
  },
  {
   "cell_type": "code",
   "execution_count": 3,
   "metadata": {},
   "outputs": [
    {
     "name": "stdout",
     "output_type": "stream",
     "text": [
      "                 sales\n",
      "id   date             \n",
      "1001 2019-01-01   5000\n",
      "     2019-01-02   3000\n",
      "     2019-01-03   3000\n",
      "     2019-01-04   3000\n",
      "1002 2019-01-01   3000\n",
      "     2019-01-02   5000\n",
      "     2019-01-03   2000\n",
      "     2019-01-04   3000\n",
      "1003 2019-01-01   2000\n",
      "     2019-01-02   3000\n"
     ]
    }
   ],
   "source": [
    "# task2--利用 pivot_table 统计该企业每个人每天销售商品 A 和 B 的金额之和\n",
    "a = pd.pivot_table(df1,index=['id','date'],values=['sales'],aggfunc=np.sum)\n",
    "print(a)"
   ]
  },
  {
   "cell_type": "code",
   "execution_count": 4,
   "metadata": {},
   "outputs": [
    {
     "name": "stdout",
     "output_type": "stream",
     "text": [
      "          sales                                        \n",
      "date 2019-01-01 2019-01-02 2019-01-03 2019-01-04    All\n",
      "id                                                     \n",
      "1001       5000       3000       3000       3000  14000\n",
      "1002       3000       5000       2000       3000  13000\n",
      "1003       2000       3000          0          0   5000\n",
      "All       10000      11000       5000       6000  32000\n"
     ]
    }
   ],
   "source": [
    "# task3--请将上面的统计数据再增加一列，统计出每个人的销售总金额\n",
    "b = pd.pivot_table(df1,index=['id'],columns=['date'],values=['sales'],\\\n",
    "                   aggfunc=np.sum,margins=True,fill_value=0)\n",
    "print(b)"
   ]
  },
  {
   "cell_type": "code",
   "execution_count": 5,
   "metadata": {},
   "outputs": [
    {
     "name": "stdout",
     "output_type": "stream",
     "text": [
      "     sex  age  smoke  height\n",
      "0    man   15   True     168\n",
      "1    man   23  False     179\n",
      "2  women   25  False     181\n",
      "3  women   17   True     166\n",
      "4    man   35   True     173\n",
      "5  women   57  False     178\n",
      "6    man   24  False     188\n",
      "7  women   31   True     190\n",
      "8  women   22  False     160\n"
     ]
    }
   ],
   "source": [
    "# task4--利用 pandas 读取 task6_2.csv 文件中的数据，建立 DataFrame\n",
    "df2 = pd.read_csv('/Users/apple/Desktop/task6_2.csv')\n",
    "print(df2)"
   ]
  },
  {
   "cell_type": "code",
   "execution_count": 6,
   "metadata": {},
   "outputs": [
    {
     "name": "stdout",
     "output_type": "stream",
     "text": [
      "        mean       \n",
      "         age height\n",
      "sex                \n",
      "man    24.25    177\n",
      "women  30.40    175\n"
     ]
    }
   ],
   "source": [
    "# task5--请以性别为分组依据，查看男女抽烟平均年龄和身高\n",
    "c = pd.pivot_table(df2,index=['sex'],values=['age','height'],aggfunc=['mean'])\n",
    "print(c)"
   ]
  },
  {
   "cell_type": "code",
   "execution_count": 7,
   "metadata": {},
   "outputs": [
    {
     "name": "stdout",
     "output_type": "stream",
     "text": [
      "smoke  False  True  All\n",
      "sex                    \n",
      "man        2     2    4\n",
      "women      3     2    5\n",
      "All        5     4    9\n"
     ]
    }
   ],
   "source": [
    "# task6--利用交叉表知识，统计各个性别抽烟的人数\n",
    "d = pd.crosstab(index=[df2['sex']],columns=[df2['smoke']],margins=True)\n",
    "print(d)"
   ]
  },
  {
   "cell_type": "code",
   "execution_count": 8,
   "metadata": {},
   "outputs": [
    {
     "name": "stdout",
     "output_type": "stream",
     "text": [
      "smoke  False  True  All\n",
      "age                    \n",
      "15         0     1    1\n",
      "17         0     1    1\n",
      "22         1     0    1\n",
      "23         1     0    1\n",
      "24         1     0    1\n",
      "25         1     0    1\n",
      "31         0     1    1\n",
      "35         0     1    1\n",
      "57         1     0    1\n",
      "All        5     4    9\n"
     ]
    }
   ],
   "source": [
    "# task7--利用交叉表知识，统计各个年龄段抽烟人情况\n",
    "e = pd.crosstab(index= [df2.age],columns= [df2.smoke],margins=True)\n",
    "print(e)"
   ]
  },
  {
   "cell_type": "code",
   "execution_count": null,
   "metadata": {},
   "outputs": [],
   "source": []
  }
 ],
 "metadata": {
  "kernelspec": {
   "display_name": "Python 3",
   "language": "python",
   "name": "python3"
  },
  "language_info": {
   "codemirror_mode": {
    "name": "ipython",
    "version": 3
   },
   "file_extension": ".py",
   "mimetype": "text/x-python",
   "name": "python",
   "nbconvert_exporter": "python",
   "pygments_lexer": "ipython3",
   "version": "3.7.6"
  }
 },
 "nbformat": 4,
 "nbformat_minor": 4
}
